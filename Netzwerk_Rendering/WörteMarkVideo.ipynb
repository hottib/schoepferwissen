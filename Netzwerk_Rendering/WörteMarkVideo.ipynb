{
 "cells": [
  {
   "cell_type": "markdown",
   "id": "c46d5963-4475-48bc-93a7-b9c5351e4d64",
   "metadata": {},
   "source": [
    "# Publikums Wörter"
   ]
  },
  {
   "cell_type": "code",
   "execution_count": 3,
   "id": "4b6d20a6-4eb7-4d41-831b-702e450c45c5",
   "metadata": {},
   "outputs": [
    {
     "name": "stdout",
     "output_type": "stream",
     "text": [
      "Imports done!\n",
      "Hit\n",
      "Hit\n",
      "Hit\n",
      "Hit\n",
      "Hit\n",
      "CSV saved as: Node_Mark_Selection.csv\n"
     ]
    },
    {
     "name": "stderr",
     "output_type": "stream",
     "text": [
      "<ipython-input-3-25ffbfbc728a>:29: SettingWithCopyWarning: \n",
      "A value is trying to be set on a copy of a slice from a DataFrame\n",
      "\n",
      "See the caveats in the documentation: https://pandas.pydata.org/pandas-docs/stable/user_guide/indexing.html#returning-a-view-versus-a-copy\n",
      "  df[\"Color\"][Id] = \"selected\"\n"
     ]
    }
   ],
   "source": [
    "import pandas as pd\n",
    "from datetime import datetime\n",
    "print(\"Imports done!\")\n",
    "\n",
    "\n",
    "publikum_str = \"\"\"\n",
    "Dämon\n",
    "dämonisch\n",
    "Übernahme\n",
    "Implantate\n",
    "implantieren\n",
    "Programm \n",
    "Programmierung\n",
    "Wesen \n",
    "Körper \n",
    "seele\n",
    "Kontrolle\n",
    "\"\"\"\n",
    "pub_str_lower = publikum_str.lower()\n",
    "pub_list = pub_str_lower.split()\n",
    "\n",
    "df = pd.read_csv(\"Node300.csv\")\n",
    "df['Color'] = \"not_selected\"\n",
    "\n",
    "filt = df[\"Label\"].isin(pub_list)\n",
    "pub_df = df[filt]\n",
    "\n",
    "for Id in pub_df[\"Id\"]:\n",
    "    df[\"Color\"][Id] = \"selected\"\n",
    "    print(\"Hit\")\n",
    "#Save\n",
    "now = datetime.now()\n",
    "time = now.strftime(\"%d_%H-%M\")\n",
    "time_str = str(time)\n",
    "\n",
    "filenamePub = \"Node_Mark_Selection.csv\"\n",
    "df.to_csv(filenamePub, index=False)\n",
    "print(\"CSV saved as: %s\" %filenamePub)\n"
   ]
  }
 ],
 "metadata": {
  "kernelspec": {
   "display_name": "Python 3",
   "language": "python",
   "name": "python3"
  },
  "language_info": {
   "codemirror_mode": {
    "name": "ipython",
    "version": 3
   },
   "file_extension": ".py",
   "mimetype": "text/x-python",
   "name": "python",
   "nbconvert_exporter": "python",
   "pygments_lexer": "ipython3",
   "version": "3.9.6"
  }
 },
 "nbformat": 4,
 "nbformat_minor": 5
}
