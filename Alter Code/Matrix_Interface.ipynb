{
 "cells": [
  {
   "cell_type": "code",
   "execution_count": 36,
   "metadata": {},
   "outputs": [],
   "source": [
    "import pandas as pd"
   ]
  },
  {
   "cell_type": "code",
   "execution_count": 55,
   "metadata": {
    "scrolled": true
   },
   "outputs": [
    {
     "data": {
      "application/vnd.jupyter.widget-view+json": {
       "model_id": "533603c73e9d43a6acf63066def734da",
       "version_major": 2,
       "version_minor": 0
      },
      "text/plain": [
       "FileChooser(path='C:\\Users\\Stacky\\Desktop\\HottisExperimentalcode\\DATA', filename='', title='', show_hidden=Fal…"
      ]
     },
     "metadata": {},
     "output_type": "display_data"
    }
   ],
   "source": [
    "from ipyfilechooser import FileChooser\n",
    "file_loc = \"/Users/Stacky/Desktop/HottisExperimentalcode/DATA\"\n",
    "\n",
    "# Create and display a FileChooser widget\n",
    "fc = FileChooser(file_loc)\n",
    "display(fc)\n",
    "\n",
    "# Change defaults and reset the dialog\n",
    "fc.default_path = file_loc\n",
    "fc.default_filename = 'output.txt'\n",
    "\n",
    "\n",
    "# Shorthand reset\n",
    "fc.reset(filename='output.txt')\n",
    "\n",
    "# Restrict navigation to /Users\n",
    "fc.sandbox_path = '/Users'\n",
    "\n",
    "# Change hidden files\n",
    "fc.show_hidden = True\n",
    "\n",
    "# Customize dir icon\n",
    "fc.dir_icon = '/'\n",
    "fc.dir_icon_append = True\n",
    "\n",
    "# Switch to folder-only mode\n",
    "#fc.show_only_dirs = True\n",
    "\n",
    "# Set a file filter pattern (uses https://docs.python.org/3/library/fnmatch.html)\n",
    "#fc.filter_pattern = '*.txt'\n",
    "\n",
    "# Set multiple file filter patterns (uses https://docs.python.org/3/library/fnmatch.html)\n",
    "#fc.filter_pattern = ['*.jpg', '*.png']\n",
    "\n",
    "# Change the title (use '' to hide)\n",
    "fc.title = '<b>FileChooser title</b>'\n",
    "\n",
    "# Sample callback function\n",
    "def change_title(chooser):\n",
    "    chooser.title = '<b>Import Dataframe</b>'\n",
    "    global df\n",
    "    df = pd.read_csv(fc.selected_path +\"/\"+ fc.selected_filename)\n",
    "    \n",
    "# Register callback function\n",
    "fc.register_callback(change_title)\n",
    "\n",
    "\n"
   ]
  },
  {
   "cell_type": "code",
   "execution_count": 56,
   "metadata": {},
   "outputs": [
    {
     "name": "stdout",
     "output_type": "stream",
     "text": [
      "    publish_date           id  \\\n",
      "0     2022-04-07  WE4Kx_jm2rk   \n",
      "1     2022-04-07  ce83zz0sSww   \n",
      "2     2022-04-07  0lOvk9Mr28Q   \n",
      "3     2022-04-07  gCHwSj0q5cY   \n",
      "4     2022-04-03  v9c93SWa2bI   \n",
      "..           ...          ...   \n",
      "99    2021-12-02  9i7q5znOWXc   \n",
      "100   2021-12-02  TJ0WjDxO5lw   \n",
      "101   2021-12-02  DLm1e1gjtT0   \n",
      "102   2021-12-02  kSD3vf6FSG4   \n",
      "103   2021-12-02  JpVi_N1-GUo   \n",
      "\n",
      "                                                 title  \\\n",
      "0    Das Programm Schlaf    Nichts in dieser Welt h...   \n",
      "1    ALLES was du in dieser Welt jemals erfahren ha...   \n",
      "2    WELT OHNE MENSCHEN   Menschen werden mithilfe ...   \n",
      "3    0492 Die Erde wurde technologisch okkupiert! S...   \n",
      "4    Was nützt es dir die Dunkelheit erkannt zu hab...   \n",
      "..                                                 ...   \n",
      "99           Der Mensch auf dem Weg in die ewige Hölle   \n",
      "100  Mythen der Endzeit   Quantensprung, Frenquenza...   \n",
      "101  Wie entstehen Realitäten? Wie entsteht das, wa...   \n",
      "102              Der Mensch - Technologie - Maschine -   \n",
      "103  Bist du bereit für die Wahrheit über dich selbst?   \n",
      "\n",
      "                                           description keywords  length  \\\n",
      "0    Das Geburtsdatum = DEIN HERSTELLUNGSDATUM!!!\\n...       []     424   \n",
      "1    Sei schön lieb und brav und nett, dann ist all...       []      81   \n",
      "2                                                  NaN       []     877   \n",
      "3    DIESE WELT IST EINE LÜGE \\nWER NICHT IN WISSEN...       []     211   \n",
      "4    Geistheiler Sananda hat den Auftrag die Erkenn...       []    1375   \n",
      "..                                                 ...      ...     ...   \n",
      "99                                                 NaN       []    1870   \n",
      "100  Spiritualität ist ein erfundenes Wort - Quante...       []     349   \n",
      "101                                                NaN       []    1406   \n",
      "102  Warum hat der Mensch eine Lebensspanne und war...       []     866   \n",
      "103  Irgdenwann stehen wir vor der unbeirrbaren Wah...       []     363   \n",
      "\n",
      "     views  age_restricted                                    yt_caption_info  \\\n",
      "0        8           False  {'a.de': <Caption lang=\"German (auto-generated...   \n",
      "1        4           False  {'a.de': <Caption lang=\"German (auto-generated...   \n",
      "2        7           False  {'a.de': <Caption lang=\"German (auto-generated...   \n",
      "3        4           False  {'a.de': <Caption lang=\"German (auto-generated...   \n",
      "4       17           False  {'a.de': <Caption lang=\"German (auto-generated...   \n",
      "..     ...             ...                                                ...   \n",
      "99       5           False  {'a.de': <Caption lang=\"German (auto-generated...   \n",
      "100      7           False  {'a.de': <Caption lang=\"German (auto-generated...   \n",
      "101     12           False  {'a.de': <Caption lang=\"German (auto-generated...   \n",
      "102     11           False  {'a.de': <Caption lang=\"German (auto-generated...   \n",
      "103     11           False                                                 {}   \n",
      "\n",
      "                                     yt_caption_tracks  vid_info  \n",
      "0    {'responseContext': {'visitorData': 'Cgs2R3VXZ...         0  \n",
      "1    {'responseContext': {'visitorData': 'CgtWMXFNZ...         0  \n",
      "2    {'responseContext': {'visitorData': 'CgtPbHZ3d...         0  \n",
      "3    {'responseContext': {'visitorData': 'CgtCLUNNd...         0  \n",
      "4    {'responseContext': {'visitorData': 'CgtZeEdVR...         0  \n",
      "..                                                 ...       ...  \n",
      "99   {'responseContext': {'visitorData': 'CgtBNHhtR...         0  \n",
      "100  {'responseContext': {'visitorData': 'Cgs4OWNEV...         0  \n",
      "101  {'responseContext': {'visitorData': 'CgtOZTJFc...         0  \n",
      "102  {'responseContext': {'visitorData': 'CgtXVzJYR...         0  \n",
      "103  {'responseContext': {'visitorData': 'Cgt6TDQ2Z...         0  \n",
      "\n",
      "[104 rows x 11 columns]\n"
     ]
    }
   ],
   "source": [
    "print(df)"
   ]
  }
 ],
 "metadata": {
  "kernelspec": {
   "display_name": "Python 3",
   "language": "python",
   "name": "python3"
  },
  "language_info": {
   "codemirror_mode": {
    "name": "ipython",
    "version": 3
   },
   "file_extension": ".py",
   "mimetype": "text/x-python",
   "name": "python",
   "nbconvert_exporter": "python",
   "pygments_lexer": "ipython3",
   "version": "3.7.6"
  },
  "toc": {
   "base_numbering": 1,
   "nav_menu": {},
   "number_sections": true,
   "sideBar": true,
   "skip_h1_title": false,
   "title_cell": "Table of Contents",
   "title_sidebar": "Contents",
   "toc_cell": false,
   "toc_position": {},
   "toc_section_display": true,
   "toc_window_display": false
  },
  "varInspector": {
   "cols": {
    "lenName": 16,
    "lenType": 16,
    "lenVar": 40
   },
   "kernels_config": {
    "python": {
     "delete_cmd_postfix": "",
     "delete_cmd_prefix": "del ",
     "library": "var_list.py",
     "varRefreshCmd": "print(var_dic_list())"
    },
    "r": {
     "delete_cmd_postfix": ") ",
     "delete_cmd_prefix": "rm(",
     "library": "var_list.r",
     "varRefreshCmd": "cat(var_dic_list()) "
    }
   },
   "types_to_exclude": [
    "module",
    "function",
    "builtin_function_or_method",
    "instance",
    "_Feature"
   ],
   "window_display": false
  }
 },
 "nbformat": 4,
 "nbformat_minor": 4
}
