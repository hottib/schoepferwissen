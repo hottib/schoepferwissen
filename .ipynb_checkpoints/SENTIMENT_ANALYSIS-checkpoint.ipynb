{
 "cells": [
  {
   "cell_type": "code",
   "execution_count": 5,
   "metadata": {},
   "outputs": [
    {
     "name": "stdout",
     "output_type": "stream",
     "text": [
      "Looking in indexes: https://pypi.tuna.tsinghua.edu.cn/simple/\n",
      "Requirement already satisfied: googletrans in c:\\programdata\\anaconda3\\lib\\site-packages (3.0.0)\n",
      "Requirement already satisfied: httpx==0.13.3 in c:\\programdata\\anaconda3\\lib\\site-packages (from googletrans) (0.13.3)\n",
      "Requirement already satisfied: chardet==3.* in c:\\programdata\\anaconda3\\lib\\site-packages (from httpx==0.13.3->googletrans) (3.0.4)\n",
      "Requirement already satisfied: httpcore==0.9.* in c:\\programdata\\anaconda3\\lib\\site-packages (from httpx==0.13.3->googletrans) (0.9.1)\n",
      "Requirement already satisfied: sniffio in c:\\programdata\\anaconda3\\lib\\site-packages (from httpx==0.13.3->googletrans) (1.2.0)\n",
      "Requirement already satisfied: hstspreload in c:\\programdata\\anaconda3\\lib\\site-packages (from httpx==0.13.3->googletrans) (2021.12.1)\n",
      "Requirement already satisfied: idna==2.* in c:\\programdata\\anaconda3\\lib\\site-packages (from httpx==0.13.3->googletrans) (2.8)\n",
      "Requirement already satisfied: rfc3986<2,>=1.3 in c:\\programdata\\anaconda3\\lib\\site-packages (from httpx==0.13.3->googletrans) (1.5.0)\n",
      "Requirement already satisfied: certifi in c:\\programdata\\anaconda3\\lib\\site-packages (from httpx==0.13.3->googletrans) (2019.11.28)\n",
      "Requirement already satisfied: h11<0.10,>=0.8 in c:\\programdata\\anaconda3\\lib\\site-packages (from httpcore==0.9.*->httpx==0.13.3->googletrans) (0.9.0)\n",
      "Requirement already satisfied: h2==3.* in c:\\programdata\\anaconda3\\lib\\site-packages (from httpcore==0.9.*->httpx==0.13.3->googletrans) (3.2.0)\n",
      "Requirement already satisfied: hyperframe<6,>=5.2.0 in c:\\programdata\\anaconda3\\lib\\site-packages (from h2==3.*->httpcore==0.9.*->httpx==0.13.3->googletrans) (5.2.0)\n",
      "Requirement already satisfied: hpack<4,>=3.0 in c:\\programdata\\anaconda3\\lib\\site-packages (from h2==3.*->httpcore==0.9.*->httpx==0.13.3->googletrans) (3.0.0)\n",
      "Looking in indexes: https://pypi.tuna.tsinghua.edu.cn/simple/\n",
      "Collecting vaderSentiment\n",
      "  Downloading https://pypi.tuna.tsinghua.edu.cn/packages/76/fc/310e16254683c1ed35eeb97386986d6c00bc29df17ce280aed64d55537e9/vaderSentiment-3.3.2-py2.py3-none-any.whl (125 kB)\n",
      "Requirement already satisfied: requests in c:\\programdata\\anaconda3\\lib\\site-packages (from vaderSentiment) (2.22.0)\n",
      "Requirement already satisfied: urllib3!=1.25.0,!=1.25.1,<1.26,>=1.21.1 in c:\\programdata\\anaconda3\\lib\\site-packages (from requests->vaderSentiment) (1.25.8)\n",
      "Requirement already satisfied: idna<2.9,>=2.5 in c:\\programdata\\anaconda3\\lib\\site-packages (from requests->vaderSentiment) (2.8)\n",
      "Requirement already satisfied: chardet<3.1.0,>=3.0.2 in c:\\programdata\\anaconda3\\lib\\site-packages (from requests->vaderSentiment) (3.0.4)\n",
      "Requirement already satisfied: certifi>=2017.4.17 in c:\\programdata\\anaconda3\\lib\\site-packages (from requests->vaderSentiment) (2019.11.28)\n",
      "Installing collected packages: vaderSentiment\n",
      "Successfully installed vaderSentiment-3.3.2\n"
     ]
    }
   ],
   "source": [
    "!pip install googletrans\n",
    "!pip install vaderSentiment"
   ]
  },
  {
   "cell_type": "code",
   "execution_count": 33,
   "metadata": {},
   "outputs": [
    {
     "data": {
      "text/html": [
       "<div>\n",
       "<style scoped>\n",
       "    .dataframe tbody tr th:only-of-type {\n",
       "        vertical-align: middle;\n",
       "    }\n",
       "\n",
       "    .dataframe tbody tr th {\n",
       "        vertical-align: top;\n",
       "    }\n",
       "\n",
       "    .dataframe thead th {\n",
       "        text-align: right;\n",
       "    }\n",
       "</style>\n",
       "<table border=\"1\" class=\"dataframe\">\n",
       "  <thead>\n",
       "    <tr style=\"text-align: right;\">\n",
       "      <th></th>\n",
       "      <th>title</th>\n",
       "      <th>Youtube ID</th>\n",
       "      <th>views</th>\n",
       "      <th>description</th>\n",
       "      <th>date_published</th>\n",
       "      <th>duration</th>\n",
       "      <th>tags</th>\n",
       "      <th>transcript</th>\n",
       "      <th>transcript language</th>\n",
       "      <th>transcript auto-generated</th>\n",
       "      <th>transcript translatable</th>\n",
       "    </tr>\n",
       "  </thead>\n",
       "  <tbody>\n",
       "    <tr>\n",
       "      <th>0</th>\n",
       "      <td>UBC - una bella compania, das größte Projekt d...</td>\n",
       "      <td>qz66ZrN1PDc</td>\n",
       "      <td>14</td>\n",
       "      <td>UBC - una bella compania. Das größte wahrhafti...</td>\n",
       "      <td>2021-08-05</td>\n",
       "      <td>37:13</td>\n",
       "      <td>Programme, Erfindungen der Matrix, Freimauerer...</td>\n",
       "      <td>[{'text': 'euro', 'start': 7.7, 'duration': 2....</td>\n",
       "      <td>de</td>\n",
       "      <td>1.0</td>\n",
       "      <td>1.0</td>\n",
       "    </tr>\n",
       "    <tr>\n",
       "      <th>1</th>\n",
       "      <td>Was ist Spiritualität, was wird damit bewirkt,...</td>\n",
       "      <td>CURvx1oAlf4</td>\n",
       "      <td>6</td>\n",
       "      <td>Viele Information werden offenbart. Auch von J...</td>\n",
       "      <td>2021-08-05</td>\n",
       "      <td>44:27</td>\n",
       "      <td>Schöpferwissen, Freiheit, Liebe, Kontrolle, Ma...</td>\n",
       "      <td>[{'text': 'ja hallo und herzlich willkommen be...</td>\n",
       "      <td>de</td>\n",
       "      <td>1.0</td>\n",
       "      <td>1.0</td>\n",
       "    </tr>\n",
       "    <tr>\n",
       "      <th>2</th>\n",
       "      <td>Wo ist die Seele verankert?</td>\n",
       "      <td>cEtPN7fGwJk</td>\n",
       "      <td>2</td>\n",
       "      <td>E-Mail: wie.aus.goetter.affen.wurden@gmail.com...</td>\n",
       "      <td>2021-08-05</td>\n",
       "      <td>10:37</td>\n",
       "      <td>Schöpferwissen, Freiheit, Liebe, Kontrolle, Ma...</td>\n",
       "      <td>[{'text': '[Musik]', 'start': 0.15, 'duration'...</td>\n",
       "      <td>de</td>\n",
       "      <td>1.0</td>\n",
       "      <td>1.0</td>\n",
       "    </tr>\n",
       "    <tr>\n",
       "      <th>3</th>\n",
       "      <td>Der Seelenplan-Glück und Unglück sind kein Zuf...</td>\n",
       "      <td>KdkFbHJEkVc</td>\n",
       "      <td>6</td>\n",
       "      <td>Beitrag 2018. Die geistige Entwicklung hört ni...</td>\n",
       "      <td>2021-08-05</td>\n",
       "      <td>17:45</td>\n",
       "      <td>Schöpferwissen, Freiheit, Liebe, Kontrolle, Ma...</td>\n",
       "      <td>[{'text': 'haben sie schon mal darüber nachged...</td>\n",
       "      <td>de</td>\n",
       "      <td>1.0</td>\n",
       "      <td>1.0</td>\n",
       "    </tr>\n",
       "    <tr>\n",
       "      <th>4</th>\n",
       "      <td>UPDATE, Die neusten Erkenntnisse über die Seele</td>\n",
       "      <td>XgHwfwy_kmw</td>\n",
       "      <td>5</td>\n",
       "      <td>Erfahre mehr im FernstudiumE-Mail: wie.aus.goe...</td>\n",
       "      <td>2021-08-05</td>\n",
       "      <td>3:38</td>\n",
       "      <td>Schöpferwissen, Freiheit, Liebe, Kontrolle, Ma...</td>\n",
       "      <td>[{'text': 'die neuesten erkenntnisse', 'start'...</td>\n",
       "      <td>de</td>\n",
       "      <td>1.0</td>\n",
       "      <td>1.0</td>\n",
       "    </tr>\n",
       "  </tbody>\n",
       "</table>\n",
       "</div>"
      ],
      "text/plain": [
       "                                               title   Youtube ID  views  \\\n",
       "0  UBC - una bella compania, das größte Projekt d...  qz66ZrN1PDc     14   \n",
       "1  Was ist Spiritualität, was wird damit bewirkt,...  CURvx1oAlf4      6   \n",
       "2                        Wo ist die Seele verankert?  cEtPN7fGwJk      2   \n",
       "3  Der Seelenplan-Glück und Unglück sind kein Zuf...  KdkFbHJEkVc      6   \n",
       "4    UPDATE, Die neusten Erkenntnisse über die Seele  XgHwfwy_kmw      5   \n",
       "\n",
       "                                         description date_published duration  \\\n",
       "0  UBC - una bella compania. Das größte wahrhafti...     2021-08-05    37:13   \n",
       "1  Viele Information werden offenbart. Auch von J...     2021-08-05    44:27   \n",
       "2  E-Mail: wie.aus.goetter.affen.wurden@gmail.com...     2021-08-05    10:37   \n",
       "3  Beitrag 2018. Die geistige Entwicklung hört ni...     2021-08-05    17:45   \n",
       "4  Erfahre mehr im FernstudiumE-Mail: wie.aus.goe...     2021-08-05     3:38   \n",
       "\n",
       "                                                tags  \\\n",
       "0  Programme, Erfindungen der Matrix, Freimauerer...   \n",
       "1  Schöpferwissen, Freiheit, Liebe, Kontrolle, Ma...   \n",
       "2  Schöpferwissen, Freiheit, Liebe, Kontrolle, Ma...   \n",
       "3  Schöpferwissen, Freiheit, Liebe, Kontrolle, Ma...   \n",
       "4  Schöpferwissen, Freiheit, Liebe, Kontrolle, Ma...   \n",
       "\n",
       "                                          transcript transcript language  \\\n",
       "0  [{'text': 'euro', 'start': 7.7, 'duration': 2....                  de   \n",
       "1  [{'text': 'ja hallo und herzlich willkommen be...                  de   \n",
       "2  [{'text': '[Musik]', 'start': 0.15, 'duration'...                  de   \n",
       "3  [{'text': 'haben sie schon mal darüber nachged...                  de   \n",
       "4  [{'text': 'die neuesten erkenntnisse', 'start'...                  de   \n",
       "\n",
       "   transcript auto-generated  transcript translatable  \n",
       "0                        1.0                      1.0  \n",
       "1                        1.0                      1.0  \n",
       "2                        1.0                      1.0  \n",
       "3                        1.0                      1.0  \n",
       "4                        1.0                      1.0  "
      ]
     },
     "execution_count": 33,
     "metadata": {},
     "output_type": "execute_result"
    }
   ],
   "source": [
    "from googletrans import Translator\n",
    "import pandas as pd\n",
    "import re\n",
    "data = pd.read_csv(\"Der Weg in deine Freiheit.csv\")\n",
    "data.head()"
   ]
  },
  {
   "cell_type": "code",
   "execution_count": 37,
   "metadata": {},
   "outputs": [
    {
     "name": "stdout",
     "output_type": "stream",
     "text": [
      "     euro . : ....\n",
      "     ja hallo und herzlich willkommen be...\n",
      "      . ...\n",
      "     haben sie schon mal darüber nachged...\n",
      "     die neuesten erkenntnisse start...\n",
      "     du bist herzer  liebevollen weil ...\n",
      "     auf jeden fall ist das ist es extre...\n",
      "     schöpferische tv- julia vor der kam...\n",
      "      . ...\n",
      "     hallo und herzlich ....\n",
      "    also zurück zum thema schaut doch m...\n",
      "    wir glauben dass schmerz und angst ...\n",
      "    wir sind auf aufnahmen ...\n",
      "    ich bin zutiefst dankbar dafür dass...\n",
      "     . ...\n",
      "    hallo und herzlich ....\n",
      "    hallo und herzlich willkommen st...\n",
      "    ich habe hier abgewaschen habe ich ...\n",
      "    auch wenn ich hier sitze und größer...\n",
      "     . ...\n",
      "    hallo im kanal schöpfer wissen tv...\n",
      "    eröffnung auch noch mehr start:...\n",
      "     . :...\n",
      "     . ...\n",
      "    das beispiel wie gesagt an die jung...\n",
      "    warum gibt es diese möglichkeit ...\n",
      "    heute eine magie  wir haben dazu d...\n",
      "    herzlich willkommen bei schöpfer wi...\n",
      "    hallo liebe zuhörer hier ist julia ...\n",
      "    die aus gittern aachen wurden ein s...\n",
      "    hallo und herzlich willkommen bei...\n",
      "     . ...\n",
      "Name: transcript dtype: object\n"
     ]
    }
   ],
   "source": [
    "text= data.transcript\n",
    "text= str(text)\n",
    "text= text.replace(\"[{'text': \", '').replace(\"'start': \", \"\").replace(\"[Musik]\", \"\")\n",
    "text= text.replace(\"duration\", \"\").replace(\"'\", \"\").replace(\",\", \"\").replace(\":\", \"\")\n",
    "pattern = r'[0-9]'\n",
    "# Match all digits in the string and replace them with an empty string\n",
    "text = re.sub(pattern, '', text)\n",
    "#print(text)\n"
   ]
  },
  {
   "cell_type": "code",
   "execution_count": 43,
   "metadata": {},
   "outputs": [
    {
     "ename": "AttributeError",
     "evalue": "'NoneType' object has no attribute 'group'",
     "output_type": "error",
     "traceback": [
      "\u001b[1;31m---------------------------------------------------------------------------\u001b[0m",
      "\u001b[1;31mAttributeError\u001b[0m                            Traceback (most recent call last)",
      "\u001b[1;32m<ipython-input-43-985b5b28f7d2>\u001b[0m in \u001b[0;36m<module>\u001b[1;34m\u001b[0m\n\u001b[0;32m      1\u001b[0m \u001b[0mt\u001b[0m \u001b[1;33m=\u001b[0m \u001b[0mTranslator\u001b[0m\u001b[1;33m(\u001b[0m\u001b[1;33m)\u001b[0m\u001b[1;33m\u001b[0m\u001b[1;33m\u001b[0m\u001b[0m\n\u001b[0;32m      2\u001b[0m \u001b[0mtextde\u001b[0m\u001b[1;33m=\u001b[0m \u001b[1;34m\"Hallo ARsch\"\u001b[0m\u001b[1;33m\u001b[0m\u001b[1;33m\u001b[0m\u001b[0m\n\u001b[1;32m----> 3\u001b[1;33m \u001b[0mtext_en\u001b[0m \u001b[1;33m=\u001b[0m \u001b[0mt\u001b[0m\u001b[1;33m.\u001b[0m\u001b[0mtranslate\u001b[0m\u001b[1;33m(\u001b[0m\u001b[0mtextde\u001b[0m\u001b[1;33m,\u001b[0m \u001b[0mDestination\u001b[0m \u001b[1;33m=\u001b[0m \u001b[1;34m\"en\"\u001b[0m\u001b[1;33m)\u001b[0m\u001b[1;33m.\u001b[0m\u001b[0mtext\u001b[0m\u001b[1;33m\u001b[0m\u001b[1;33m\u001b[0m\u001b[0m\n\u001b[0m",
      "\u001b[1;32mc:\\users\\stacky\\appdata\\local\\programs\\python\\python39\\lib\\site-packages\\googletrans\\client.py\u001b[0m in \u001b[0;36mtranslate\u001b[1;34m(self, text, dest, src, **kwargs)\u001b[0m\n\u001b[0;32m    180\u001b[0m \u001b[1;33m\u001b[0m\u001b[0m\n\u001b[0;32m    181\u001b[0m         \u001b[0morigin\u001b[0m \u001b[1;33m=\u001b[0m \u001b[0mtext\u001b[0m\u001b[1;33m\u001b[0m\u001b[1;33m\u001b[0m\u001b[0m\n\u001b[1;32m--> 182\u001b[1;33m         \u001b[0mdata\u001b[0m \u001b[1;33m=\u001b[0m \u001b[0mself\u001b[0m\u001b[1;33m.\u001b[0m\u001b[0m_translate\u001b[0m\u001b[1;33m(\u001b[0m\u001b[0mtext\u001b[0m\u001b[1;33m,\u001b[0m \u001b[0mdest\u001b[0m\u001b[1;33m,\u001b[0m \u001b[0msrc\u001b[0m\u001b[1;33m,\u001b[0m \u001b[0mkwargs\u001b[0m\u001b[1;33m)\u001b[0m\u001b[1;33m\u001b[0m\u001b[1;33m\u001b[0m\u001b[0m\n\u001b[0m\u001b[0;32m    183\u001b[0m \u001b[1;33m\u001b[0m\u001b[0m\n\u001b[0;32m    184\u001b[0m         \u001b[1;31m# this code will be updated when the format is changed.\u001b[0m\u001b[1;33m\u001b[0m\u001b[1;33m\u001b[0m\u001b[1;33m\u001b[0m\u001b[0m\n",
      "\u001b[1;32mc:\\users\\stacky\\appdata\\local\\programs\\python\\python39\\lib\\site-packages\\googletrans\\client.py\u001b[0m in \u001b[0;36m_translate\u001b[1;34m(self, text, dest, src, override)\u001b[0m\n\u001b[0;32m     76\u001b[0m \u001b[1;33m\u001b[0m\u001b[0m\n\u001b[0;32m     77\u001b[0m     \u001b[1;32mdef\u001b[0m \u001b[0m_translate\u001b[0m\u001b[1;33m(\u001b[0m\u001b[0mself\u001b[0m\u001b[1;33m,\u001b[0m \u001b[0mtext\u001b[0m\u001b[1;33m,\u001b[0m \u001b[0mdest\u001b[0m\u001b[1;33m,\u001b[0m \u001b[0msrc\u001b[0m\u001b[1;33m,\u001b[0m \u001b[0moverride\u001b[0m\u001b[1;33m)\u001b[0m\u001b[1;33m:\u001b[0m\u001b[1;33m\u001b[0m\u001b[1;33m\u001b[0m\u001b[0m\n\u001b[1;32m---> 78\u001b[1;33m         \u001b[0mtoken\u001b[0m \u001b[1;33m=\u001b[0m \u001b[0mself\u001b[0m\u001b[1;33m.\u001b[0m\u001b[0mtoken_acquirer\u001b[0m\u001b[1;33m.\u001b[0m\u001b[0mdo\u001b[0m\u001b[1;33m(\u001b[0m\u001b[0mtext\u001b[0m\u001b[1;33m)\u001b[0m\u001b[1;33m\u001b[0m\u001b[1;33m\u001b[0m\u001b[0m\n\u001b[0m\u001b[0;32m     79\u001b[0m         params = utils.build_params(query=text, src=src, dest=dest,\n\u001b[0;32m     80\u001b[0m                                     token=token, override=override)\n",
      "\u001b[1;32mc:\\users\\stacky\\appdata\\local\\programs\\python\\python39\\lib\\site-packages\\googletrans\\gtoken.py\u001b[0m in \u001b[0;36mdo\u001b[1;34m(self, text)\u001b[0m\n\u001b[0;32m    192\u001b[0m \u001b[1;33m\u001b[0m\u001b[0m\n\u001b[0;32m    193\u001b[0m     \u001b[1;32mdef\u001b[0m \u001b[0mdo\u001b[0m\u001b[1;33m(\u001b[0m\u001b[0mself\u001b[0m\u001b[1;33m,\u001b[0m \u001b[0mtext\u001b[0m\u001b[1;33m)\u001b[0m\u001b[1;33m:\u001b[0m\u001b[1;33m\u001b[0m\u001b[1;33m\u001b[0m\u001b[0m\n\u001b[1;32m--> 194\u001b[1;33m         \u001b[0mself\u001b[0m\u001b[1;33m.\u001b[0m\u001b[0m_update\u001b[0m\u001b[1;33m(\u001b[0m\u001b[1;33m)\u001b[0m\u001b[1;33m\u001b[0m\u001b[1;33m\u001b[0m\u001b[0m\n\u001b[0m\u001b[0;32m    195\u001b[0m         \u001b[0mtk\u001b[0m \u001b[1;33m=\u001b[0m \u001b[0mself\u001b[0m\u001b[1;33m.\u001b[0m\u001b[0macquire\u001b[0m\u001b[1;33m(\u001b[0m\u001b[0mtext\u001b[0m\u001b[1;33m)\u001b[0m\u001b[1;33m\u001b[0m\u001b[1;33m\u001b[0m\u001b[0m\n\u001b[0;32m    196\u001b[0m         \u001b[1;32mreturn\u001b[0m \u001b[0mtk\u001b[0m\u001b[1;33m\u001b[0m\u001b[1;33m\u001b[0m\u001b[0m\n",
      "\u001b[1;32mc:\\users\\stacky\\appdata\\local\\programs\\python\\python39\\lib\\site-packages\\googletrans\\gtoken.py\u001b[0m in \u001b[0;36m_update\u001b[1;34m(self)\u001b[0m\n\u001b[0;32m     60\u001b[0m \u001b[1;33m\u001b[0m\u001b[0m\n\u001b[0;32m     61\u001b[0m         \u001b[1;31m# this will be the same as python code after stripping out a reserved word 'var'\u001b[0m\u001b[1;33m\u001b[0m\u001b[1;33m\u001b[0m\u001b[1;33m\u001b[0m\u001b[0m\n\u001b[1;32m---> 62\u001b[1;33m         \u001b[0mcode\u001b[0m \u001b[1;33m=\u001b[0m \u001b[0mself\u001b[0m\u001b[1;33m.\u001b[0m\u001b[0mRE_TKK\u001b[0m\u001b[1;33m.\u001b[0m\u001b[0msearch\u001b[0m\u001b[1;33m(\u001b[0m\u001b[0mr\u001b[0m\u001b[1;33m.\u001b[0m\u001b[0mtext\u001b[0m\u001b[1;33m)\u001b[0m\u001b[1;33m.\u001b[0m\u001b[0mgroup\u001b[0m\u001b[1;33m(\u001b[0m\u001b[1;36m1\u001b[0m\u001b[1;33m)\u001b[0m\u001b[1;33m.\u001b[0m\u001b[0mreplace\u001b[0m\u001b[1;33m(\u001b[0m\u001b[1;34m'var '\u001b[0m\u001b[1;33m,\u001b[0m \u001b[1;34m''\u001b[0m\u001b[1;33m)\u001b[0m\u001b[1;33m\u001b[0m\u001b[1;33m\u001b[0m\u001b[0m\n\u001b[0m\u001b[0;32m     63\u001b[0m         \u001b[1;31m# unescape special ascii characters such like a \\x3d(=)\u001b[0m\u001b[1;33m\u001b[0m\u001b[1;33m\u001b[0m\u001b[1;33m\u001b[0m\u001b[0m\n\u001b[0;32m     64\u001b[0m         \u001b[0mcode\u001b[0m \u001b[1;33m=\u001b[0m \u001b[0mcode\u001b[0m\u001b[1;33m.\u001b[0m\u001b[0mencode\u001b[0m\u001b[1;33m(\u001b[0m\u001b[1;33m)\u001b[0m\u001b[1;33m.\u001b[0m\u001b[0mdecode\u001b[0m\u001b[1;33m(\u001b[0m\u001b[1;34m'unicode-escape'\u001b[0m\u001b[1;33m)\u001b[0m\u001b[1;33m\u001b[0m\u001b[1;33m\u001b[0m\u001b[0m\n",
      "\u001b[1;31mAttributeError\u001b[0m: 'NoneType' object has no attribute 'group'"
     ]
    }
   ],
   "source": [
    "T = Translator()\n",
    "textde= \"Hallo du Arsch. Doofes Video\"\n",
    "text_en = t.translate(textde, Destination = \"en\").text"
   ]
  }
 ],
 "metadata": {
  "kernelspec": {
   "display_name": "Python 3",
   "language": "python",
   "name": "python3"
  },
  "language_info": {
   "codemirror_mode": {
    "name": "ipython",
    "version": 3
   },
   "file_extension": ".py",
   "mimetype": "text/x-python",
   "name": "python",
   "nbconvert_exporter": "python",
   "pygments_lexer": "ipython3",
   "version": "3.9.6"
  },
  "toc": {
   "base_numbering": 1,
   "nav_menu": {},
   "number_sections": true,
   "sideBar": true,
   "skip_h1_title": false,
   "title_cell": "Table of Contents",
   "title_sidebar": "Contents",
   "toc_cell": false,
   "toc_position": {},
   "toc_section_display": true,
   "toc_window_display": false
  },
  "varInspector": {
   "cols": {
    "lenName": 16,
    "lenType": 16,
    "lenVar": 40
   },
   "kernels_config": {
    "python": {
     "delete_cmd_postfix": "",
     "delete_cmd_prefix": "del ",
     "library": "var_list.py",
     "varRefreshCmd": "print(var_dic_list())"
    },
    "r": {
     "delete_cmd_postfix": ") ",
     "delete_cmd_prefix": "rm(",
     "library": "var_list.r",
     "varRefreshCmd": "cat(var_dic_list()) "
    }
   },
   "types_to_exclude": [
    "module",
    "function",
    "builtin_function_or_method",
    "instance",
    "_Feature"
   ],
   "window_display": false
  }
 },
 "nbformat": 4,
 "nbformat_minor": 4
}
