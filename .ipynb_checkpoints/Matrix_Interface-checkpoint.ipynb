{
 "cells": [
  {
   "cell_type": "code",
   "execution_count": 36,
   "metadata": {},
   "outputs": [],
   "source": [
    "import pandas as pd"
   ]
  },
  {
   "cell_type": "code",
   "execution_count": 43,
   "metadata": {
    "scrolled": true
   },
   "outputs": [
    {
     "data": {
      "application/vnd.jupyter.widget-view+json": {
       "model_id": "b957f41464eb429aa03cad558250f1ac",
       "version_major": 2,
       "version_minor": 0
      },
      "text/plain": [
       "FileChooser(path='C:\\Users\\Stacky\\Desktop\\HottisExperimentalcode', filename='', title='', show_hidden=False, s…"
      ]
     },
     "metadata": {},
     "output_type": "display_data"
    },
    {
     "name": "stdout",
     "output_type": "stream",
     "text": [
      "None\n",
      "None\n",
      "None\n",
      "  publish_date           id                                           title  \\\n",
      "0   2022-02-08  O4-HmqtfQfc                       How to Make Youtube Money   \n",
      "1   2022-02-08  sPi8V2Ue2T4  Weiterhin unbeständiges Wetter - Windböen Tanz   \n",
      "2   2022-02-02  ztp9FWhTyoo  It was never illegal to do so - History of Law   \n",
      "3   2022-02-01  HxSaU3ZQiU0                              Through the window   \n",
      "4   2022-01-07  aLzN_7dyq4s                                   Undefinierbar   \n",
      "\n",
      "                                         description keywords  length  views  \\\n",
      "0  Earn your first 1000 Subscribers\\nMaybe this v...       []     343     20   \n",
      "1  Der Mensch wird mit seinem großen Flügeln, ind...       []    1421     23   \n",
      "2                                     Never illegal!       []     773     15   \n",
      "3  Windows 2000 standardpicture\\n\\nThe first imag...       []     675     14   \n",
      "4  Information im Raum stehen lassen!\\n\\nJemand d...       []     675     33   \n",
      "\n",
      "   age_restricted                                    yt_caption_info  \\\n",
      "0           False                                                 {}   \n",
      "1           False  {'a.de': <Caption lang=\"German (auto-generated...   \n",
      "2           False  {'a.en': <Caption lang=\"English (auto-generate...   \n",
      "3           False  {'a.de': <Caption lang=\"German (auto-generated...   \n",
      "4           False  {'a.de': <Caption lang=\"German (auto-generated...   \n",
      "\n",
      "                                   yt_caption_tracks  vid_info  \n",
      "0  {'responseContext': {'visitorData': 'CgszQkREU...         0  \n",
      "1  {'responseContext': {'visitorData': 'Cgt0OWk2N...         0  \n",
      "2  {'responseContext': {'visitorData': 'CgtVME9vb...         0  \n",
      "3  {'responseContext': {'visitorData': 'CgtHY1hnS...         0  \n",
      "4  {'responseContext': {'visitorData': 'CgtaTDJBT...         0  \n"
     ]
    }
   ],
   "source": [
    "from ipyfilechooser import FileChooser\n",
    "file_loc = \"/Users/Stacky/Desktop/HottisExperimentalcode/\"\n",
    "\n",
    "# Create and display a FileChooser widget\n",
    "fc = FileChooser(file_loc)\n",
    "display(fc)\n",
    "\n",
    "# Print the selected path, filename, or both\n",
    "print(fc.selected_path)\n",
    "print(fc.selected_filename)\n",
    "print(fc.selected)\n",
    "\n",
    "# Change defaults and reset the dialog\n",
    "fc.default_path = file_loc\n",
    "fc.default_filename = 'output.txt'\n",
    "\n",
    "\n",
    "# Shorthand reset\n",
    "fc.reset(filename='output.txt')\n",
    "\n",
    "# Restrict navigation to /Users\n",
    "fc.sandbox_path = '/Users'\n",
    "\n",
    "# Change hidden files\n",
    "fc.show_hidden = True\n",
    "\n",
    "# Customize dir icon\n",
    "fc.dir_icon = '/'\n",
    "fc.dir_icon_append = True\n",
    "\n",
    "# Switch to folder-only mode\n",
    "#fc.show_only_dirs = True\n",
    "\n",
    "# Set a file filter pattern (uses https://docs.python.org/3/library/fnmatch.html)\n",
    "#fc.filter_pattern = '*.txt'\n",
    "\n",
    "# Set multiple file filter patterns (uses https://docs.python.org/3/library/fnmatch.html)\n",
    "#fc.filter_pattern = ['*.jpg', '*.png']\n",
    "\n",
    "# Change the title (use '' to hide)\n",
    "fc.title = '<b>FileChooser title</b>'\n",
    "\n",
    "# Sample callback function\n",
    "def change_title(chooser):\n",
    "    chooser.title = '<b>IMport Dataframe</b>'\n",
    "    df = pd.read_csv(fc.selected_path +\"/\"+ fc.selected_filename)\n",
    "    display(df.head())\n",
    "    return df\n",
    "\n",
    "# Register callback function\n",
    "fc.register_callback(change_title)\n",
    "\n",
    "\n"
   ]
  }
 ],
 "metadata": {
  "kernelspec": {
   "display_name": "Python 3",
   "language": "python",
   "name": "python3"
  },
  "language_info": {
   "codemirror_mode": {
    "name": "ipython",
    "version": 3
   },
   "file_extension": ".py",
   "mimetype": "text/x-python",
   "name": "python",
   "nbconvert_exporter": "python",
   "pygments_lexer": "ipython3",
   "version": "3.7.6"
  },
  "toc": {
   "base_numbering": 1,
   "nav_menu": {},
   "number_sections": true,
   "sideBar": true,
   "skip_h1_title": false,
   "title_cell": "Table of Contents",
   "title_sidebar": "Contents",
   "toc_cell": false,
   "toc_position": {},
   "toc_section_display": true,
   "toc_window_display": false
  },
  "varInspector": {
   "cols": {
    "lenName": 16,
    "lenType": 16,
    "lenVar": 40
   },
   "kernels_config": {
    "python": {
     "delete_cmd_postfix": "",
     "delete_cmd_prefix": "del ",
     "library": "var_list.py",
     "varRefreshCmd": "print(var_dic_list())"
    },
    "r": {
     "delete_cmd_postfix": ") ",
     "delete_cmd_prefix": "rm(",
     "library": "var_list.r",
     "varRefreshCmd": "cat(var_dic_list()) "
    }
   },
   "types_to_exclude": [
    "module",
    "function",
    "builtin_function_or_method",
    "instance",
    "_Feature"
   ],
   "window_display": false
  }
 },
 "nbformat": 4,
 "nbformat_minor": 4
}
