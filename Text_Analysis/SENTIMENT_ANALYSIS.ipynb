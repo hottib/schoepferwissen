{
 "cells": [
  {
   "cell_type": "code",
   "execution_count": null,
   "metadata": {},
   "outputs": [],
   "source": [
    "#Brauch man nur beim ersten mal ausführen\n",
    "!pip uninstall googletrans\n",
    "!git clone https://github.com/alainrouillon/py-googletrans.git\n",
    "!cd ./py-googletrans\n",
    "!git checkout origin/feature/enhance-use-of-direct-api\n",
    "!python setup.py install\n",
    "!pip install vaderSentiment"
   ]
  },
  {
   "cell_type": "code",
   "execution_count": null,
   "metadata": {},
   "outputs": [],
   "source": [
    "!pip install "
   ]
  },
  {
   "cell_type": "code",
   "execution_count": 4,
   "metadata": {},
   "outputs": [
    {
     "data": {
      "text/html": [
       "<div>\n",
       "<style scoped>\n",
       "    .dataframe tbody tr th:only-of-type {\n",
       "        vertical-align: middle;\n",
       "    }\n",
       "\n",
       "    .dataframe tbody tr th {\n",
       "        vertical-align: top;\n",
       "    }\n",
       "\n",
       "    .dataframe thead th {\n",
       "        text-align: right;\n",
       "    }\n",
       "</style>\n",
       "<table border=\"1\" class=\"dataframe\">\n",
       "  <thead>\n",
       "    <tr style=\"text-align: right;\">\n",
       "      <th></th>\n",
       "      <th>title</th>\n",
       "      <th>Youtube ID</th>\n",
       "      <th>views</th>\n",
       "      <th>description</th>\n",
       "      <th>date_published</th>\n",
       "      <th>duration</th>\n",
       "      <th>tags</th>\n",
       "      <th>transcript</th>\n",
       "      <th>transcript language</th>\n",
       "      <th>transcript auto-generated</th>\n",
       "      <th>transcript translatable</th>\n",
       "    </tr>\n",
       "  </thead>\n",
       "  <tbody>\n",
       "    <tr>\n",
       "      <th>0</th>\n",
       "      <td>UBC - una bella compania, das größte Projekt d...</td>\n",
       "      <td>qz66ZrN1PDc</td>\n",
       "      <td>14</td>\n",
       "      <td>UBC - una bella compania. Das größte wahrhafti...</td>\n",
       "      <td>2021-08-05</td>\n",
       "      <td>37:13</td>\n",
       "      <td>Programme, Erfindungen der Matrix, Freimauerer...</td>\n",
       "      <td>[{'text': 'euro', 'start': 7.7, 'duration': 2....</td>\n",
       "      <td>de</td>\n",
       "      <td>1.0</td>\n",
       "      <td>1.0</td>\n",
       "    </tr>\n",
       "    <tr>\n",
       "      <th>1</th>\n",
       "      <td>Was ist Spiritualität, was wird damit bewirkt,...</td>\n",
       "      <td>CURvx1oAlf4</td>\n",
       "      <td>6</td>\n",
       "      <td>Viele Information werden offenbart. Auch von J...</td>\n",
       "      <td>2021-08-05</td>\n",
       "      <td>44:27</td>\n",
       "      <td>Schöpferwissen, Freiheit, Liebe, Kontrolle, Ma...</td>\n",
       "      <td>[{'text': 'ja hallo und herzlich willkommen be...</td>\n",
       "      <td>de</td>\n",
       "      <td>1.0</td>\n",
       "      <td>1.0</td>\n",
       "    </tr>\n",
       "    <tr>\n",
       "      <th>2</th>\n",
       "      <td>Wo ist die Seele verankert?</td>\n",
       "      <td>cEtPN7fGwJk</td>\n",
       "      <td>2</td>\n",
       "      <td>E-Mail: wie.aus.goetter.affen.wurden@gmail.com...</td>\n",
       "      <td>2021-08-05</td>\n",
       "      <td>10:37</td>\n",
       "      <td>Schöpferwissen, Freiheit, Liebe, Kontrolle, Ma...</td>\n",
       "      <td>[{'text': '[Musik]', 'start': 0.15, 'duration'...</td>\n",
       "      <td>de</td>\n",
       "      <td>1.0</td>\n",
       "      <td>1.0</td>\n",
       "    </tr>\n",
       "    <tr>\n",
       "      <th>3</th>\n",
       "      <td>Der Seelenplan-Glück und Unglück sind kein Zuf...</td>\n",
       "      <td>KdkFbHJEkVc</td>\n",
       "      <td>6</td>\n",
       "      <td>Beitrag 2018. Die geistige Entwicklung hört ni...</td>\n",
       "      <td>2021-08-05</td>\n",
       "      <td>17:45</td>\n",
       "      <td>Schöpferwissen, Freiheit, Liebe, Kontrolle, Ma...</td>\n",
       "      <td>[{'text': 'haben sie schon mal darüber nachged...</td>\n",
       "      <td>de</td>\n",
       "      <td>1.0</td>\n",
       "      <td>1.0</td>\n",
       "    </tr>\n",
       "    <tr>\n",
       "      <th>4</th>\n",
       "      <td>UPDATE, Die neusten Erkenntnisse über die Seele</td>\n",
       "      <td>XgHwfwy_kmw</td>\n",
       "      <td>5</td>\n",
       "      <td>Erfahre mehr im FernstudiumE-Mail: wie.aus.goe...</td>\n",
       "      <td>2021-08-05</td>\n",
       "      <td>3:38</td>\n",
       "      <td>Schöpferwissen, Freiheit, Liebe, Kontrolle, Ma...</td>\n",
       "      <td>[{'text': 'die neuesten erkenntnisse', 'start'...</td>\n",
       "      <td>de</td>\n",
       "      <td>1.0</td>\n",
       "      <td>1.0</td>\n",
       "    </tr>\n",
       "  </tbody>\n",
       "</table>\n",
       "</div>"
      ],
      "text/plain": [
       "                                               title   Youtube ID  views  \\\n",
       "0  UBC - una bella compania, das größte Projekt d...  qz66ZrN1PDc     14   \n",
       "1  Was ist Spiritualität, was wird damit bewirkt,...  CURvx1oAlf4      6   \n",
       "2                        Wo ist die Seele verankert?  cEtPN7fGwJk      2   \n",
       "3  Der Seelenplan-Glück und Unglück sind kein Zuf...  KdkFbHJEkVc      6   \n",
       "4    UPDATE, Die neusten Erkenntnisse über die Seele  XgHwfwy_kmw      5   \n",
       "\n",
       "                                         description date_published duration  \\\n",
       "0  UBC - una bella compania. Das größte wahrhafti...     2021-08-05    37:13   \n",
       "1  Viele Information werden offenbart. Auch von J...     2021-08-05    44:27   \n",
       "2  E-Mail: wie.aus.goetter.affen.wurden@gmail.com...     2021-08-05    10:37   \n",
       "3  Beitrag 2018. Die geistige Entwicklung hört ni...     2021-08-05    17:45   \n",
       "4  Erfahre mehr im FernstudiumE-Mail: wie.aus.goe...     2021-08-05     3:38   \n",
       "\n",
       "                                                tags  \\\n",
       "0  Programme, Erfindungen der Matrix, Freimauerer...   \n",
       "1  Schöpferwissen, Freiheit, Liebe, Kontrolle, Ma...   \n",
       "2  Schöpferwissen, Freiheit, Liebe, Kontrolle, Ma...   \n",
       "3  Schöpferwissen, Freiheit, Liebe, Kontrolle, Ma...   \n",
       "4  Schöpferwissen, Freiheit, Liebe, Kontrolle, Ma...   \n",
       "\n",
       "                                          transcript transcript language  \\\n",
       "0  [{'text': 'euro', 'start': 7.7, 'duration': 2....                  de   \n",
       "1  [{'text': 'ja hallo und herzlich willkommen be...                  de   \n",
       "2  [{'text': '[Musik]', 'start': 0.15, 'duration'...                  de   \n",
       "3  [{'text': 'haben sie schon mal darüber nachged...                  de   \n",
       "4  [{'text': 'die neuesten erkenntnisse', 'start'...                  de   \n",
       "\n",
       "   transcript auto-generated  transcript translatable  \n",
       "0                        1.0                      1.0  \n",
       "1                        1.0                      1.0  \n",
       "2                        1.0                      1.0  \n",
       "3                        1.0                      1.0  \n",
       "4                        1.0                      1.0  "
      ]
     },
     "execution_count": 4,
     "metadata": {},
     "output_type": "execute_result"
    }
   ],
   "source": [
    "from googletrans import Translator\n",
    "from textblob_de import TextBlobDE as TextBlob\n",
    "import pandas as pd\n",
    "import re\n",
    "data = pd.read_csv(\"Der Weg in deine Freiheit.csv\")\n",
    "data.head()"
   ]
  },
  {
   "cell_type": "code",
   "execution_count": 14,
   "metadata": {},
   "outputs": [
    {
     "ename": "SyntaxError",
     "evalue": "invalid syntax (<string>, line 1)",
     "output_type": "error",
     "traceback": [
      "Traceback \u001b[1;36m(most recent call last)\u001b[0m:\n",
      "  File \u001b[0;32m\"c:\\users\\stacky\\appdata\\local\\programs\\python\\python39\\lib\\site-packages\\IPython\\core\\interactiveshell.py\"\u001b[0m, line \u001b[0;32m3343\u001b[0m, in \u001b[0;35mrun_code\u001b[0m\n    exec(code_obj, self.user_global_ns, self.user_ns)\n",
      "\u001b[1;36m  File \u001b[1;32m\"<ipython-input-14-2c1edc2ef984>\"\u001b[1;36m, line \u001b[1;32m4\u001b[1;36m, in \u001b[1;35m<module>\u001b[1;36m\u001b[0m\n\u001b[1;33m    D2=eval(text)\u001b[0m\n",
      "\u001b[1;36m  File \u001b[1;32m\"<string>\"\u001b[1;36m, line \u001b[1;32m1\u001b[0m\n\u001b[1;33m    0     [{'text': 'euro', 'start': 7.7, 'duration': 2....\u001b[0m\n\u001b[1;37m                                                        ^\u001b[0m\n\u001b[1;31mSyntaxError\u001b[0m\u001b[1;31m:\u001b[0m invalid syntax\n"
     ]
    }
   ],
   "source": [
    "text= data.transcript\n",
    "\n",
    "text= str(text)\n",
    "D2=eval(text)\n",
    "text= text.replace(\"[{'text': \", '').replace(\"'start': \", \"\").replace(\"[Musik]\", \"\")\n",
    "text= text.replace(\"duration\", \"\").replace(\"'\", \"\").replace(\",\", \"\").replace(\":\", \"\")\n",
    "pattern = r'[0-9]'\n",
    "# Match all digits in the string and replace them with an empty string\n",
    "text = re.sub(pattern, '', text)\n",
    "blob = TextBlob(text)\n",
    "\n",
    "print(text)\n",
    "print(blob.sentiment)"
   ]
  },
  {
   "cell_type": "code",
   "execution_count": 3,
   "metadata": {
    "scrolled": true
   },
   "outputs": [
    {
     "ename": "AttributeError",
     "evalue": "'NoneType' object has no attribute 'group'",
     "output_type": "error",
     "traceback": [
      "\u001b[1;31m---------------------------------------------------------------------------\u001b[0m",
      "\u001b[1;31mAttributeError\u001b[0m                            Traceback (most recent call last)",
      "\u001b[1;32m<ipython-input-3-750eda016195>\u001b[0m in \u001b[0;36m<module>\u001b[1;34m\u001b[0m\n\u001b[0;32m      1\u001b[0m \u001b[0mT\u001b[0m \u001b[1;33m=\u001b[0m \u001b[0mTranslator\u001b[0m\u001b[1;33m(\u001b[0m\u001b[1;33m)\u001b[0m\u001b[1;33m\u001b[0m\u001b[1;33m\u001b[0m\u001b[0m\n\u001b[0;32m      2\u001b[0m \u001b[0mtextde\u001b[0m\u001b[1;33m=\u001b[0m \u001b[1;34m\"Hallo du Arsch. Doofes Video\"\u001b[0m\u001b[1;33m\u001b[0m\u001b[1;33m\u001b[0m\u001b[0m\n\u001b[1;32m----> 3\u001b[1;33m \u001b[0mtext_en\u001b[0m \u001b[1;33m=\u001b[0m \u001b[0mT\u001b[0m\u001b[1;33m.\u001b[0m\u001b[0mtranslate\u001b[0m\u001b[1;33m(\u001b[0m\u001b[0mtextde\u001b[0m\u001b[1;33m)\u001b[0m\u001b[1;33m.\u001b[0m\u001b[0mtext\u001b[0m\u001b[1;33m\u001b[0m\u001b[1;33m\u001b[0m\u001b[0m\n\u001b[0m",
      "\u001b[1;32mc:\\users\\stacky\\appdata\\local\\programs\\python\\python39\\lib\\site-packages\\googletrans-3.0.0-py3.9.egg\\googletrans\\client.py\u001b[0m in \u001b[0;36mtranslate\u001b[1;34m(self, text, dest, src, **kwargs)\u001b[0m\n\u001b[0;32m    207\u001b[0m \u001b[1;33m\u001b[0m\u001b[0m\n\u001b[0;32m    208\u001b[0m         \u001b[0morigin\u001b[0m \u001b[1;33m=\u001b[0m \u001b[0mtext\u001b[0m\u001b[1;33m\u001b[0m\u001b[1;33m\u001b[0m\u001b[0m\n\u001b[1;32m--> 209\u001b[1;33m         \u001b[0mdata\u001b[0m\u001b[1;33m,\u001b[0m \u001b[0mresponse\u001b[0m \u001b[1;33m=\u001b[0m \u001b[0mself\u001b[0m\u001b[1;33m.\u001b[0m\u001b[0m_translate\u001b[0m\u001b[1;33m(\u001b[0m\u001b[0mtext\u001b[0m\u001b[1;33m,\u001b[0m \u001b[0mdest\u001b[0m\u001b[1;33m,\u001b[0m \u001b[0msrc\u001b[0m\u001b[1;33m,\u001b[0m \u001b[0mkwargs\u001b[0m\u001b[1;33m)\u001b[0m\u001b[1;33m\u001b[0m\u001b[1;33m\u001b[0m\u001b[0m\n\u001b[0m\u001b[0;32m    210\u001b[0m \u001b[1;33m\u001b[0m\u001b[0m\n\u001b[0;32m    211\u001b[0m         \u001b[1;31m# this code will be updated when the format is changed.\u001b[0m\u001b[1;33m\u001b[0m\u001b[1;33m\u001b[0m\u001b[1;33m\u001b[0m\u001b[0m\n",
      "\u001b[1;32mc:\\users\\stacky\\appdata\\local\\programs\\python\\python39\\lib\\site-packages\\googletrans-3.0.0-py3.9.egg\\googletrans\\client.py\u001b[0m in \u001b[0;36m_translate\u001b[1;34m(self, text, dest, src, override)\u001b[0m\n\u001b[0;32m     99\u001b[0m         \u001b[0mtoken\u001b[0m \u001b[1;33m=\u001b[0m \u001b[1;34m'xxxx'\u001b[0m \u001b[1;31m#dummy default value here as it is not used by api client\u001b[0m\u001b[1;33m\u001b[0m\u001b[1;33m\u001b[0m\u001b[0m\n\u001b[0;32m    100\u001b[0m         \u001b[1;32mif\u001b[0m \u001b[0mself\u001b[0m\u001b[1;33m.\u001b[0m\u001b[0mclient_type\u001b[0m \u001b[1;33m==\u001b[0m \u001b[1;34m'webapp'\u001b[0m\u001b[1;33m:\u001b[0m\u001b[1;33m\u001b[0m\u001b[1;33m\u001b[0m\u001b[0m\n\u001b[1;32m--> 101\u001b[1;33m             \u001b[0mtoken\u001b[0m \u001b[1;33m=\u001b[0m \u001b[0mself\u001b[0m\u001b[1;33m.\u001b[0m\u001b[0mtoken_acquirer\u001b[0m\u001b[1;33m.\u001b[0m\u001b[0mdo\u001b[0m\u001b[1;33m(\u001b[0m\u001b[0mtext\u001b[0m\u001b[1;33m)\u001b[0m\u001b[1;33m\u001b[0m\u001b[1;33m\u001b[0m\u001b[0m\n\u001b[0m\u001b[0;32m    102\u001b[0m \u001b[1;33m\u001b[0m\u001b[0m\n\u001b[0;32m    103\u001b[0m         params = utils.build_params(client=self.client_type, query=text, src=src, dest=dest,\n",
      "\u001b[1;32mc:\\users\\stacky\\appdata\\local\\programs\\python\\python39\\lib\\site-packages\\googletrans-3.0.0-py3.9.egg\\googletrans\\gtoken.py\u001b[0m in \u001b[0;36mdo\u001b[1;34m(self, text)\u001b[0m\n\u001b[0;32m    192\u001b[0m \u001b[1;33m\u001b[0m\u001b[0m\n\u001b[0;32m    193\u001b[0m     \u001b[1;32mdef\u001b[0m \u001b[0mdo\u001b[0m\u001b[1;33m(\u001b[0m\u001b[0mself\u001b[0m\u001b[1;33m,\u001b[0m \u001b[0mtext\u001b[0m\u001b[1;33m)\u001b[0m\u001b[1;33m:\u001b[0m\u001b[1;33m\u001b[0m\u001b[1;33m\u001b[0m\u001b[0m\n\u001b[1;32m--> 194\u001b[1;33m         \u001b[0mself\u001b[0m\u001b[1;33m.\u001b[0m\u001b[0m_update\u001b[0m\u001b[1;33m(\u001b[0m\u001b[1;33m)\u001b[0m\u001b[1;33m\u001b[0m\u001b[1;33m\u001b[0m\u001b[0m\n\u001b[0m\u001b[0;32m    195\u001b[0m         \u001b[0mtk\u001b[0m \u001b[1;33m=\u001b[0m \u001b[0mself\u001b[0m\u001b[1;33m.\u001b[0m\u001b[0macquire\u001b[0m\u001b[1;33m(\u001b[0m\u001b[0mtext\u001b[0m\u001b[1;33m)\u001b[0m\u001b[1;33m\u001b[0m\u001b[1;33m\u001b[0m\u001b[0m\n\u001b[0;32m    196\u001b[0m         \u001b[1;32mreturn\u001b[0m \u001b[0mtk\u001b[0m\u001b[1;33m\u001b[0m\u001b[1;33m\u001b[0m\u001b[0m\n",
      "\u001b[1;32mc:\\users\\stacky\\appdata\\local\\programs\\python\\python39\\lib\\site-packages\\googletrans-3.0.0-py3.9.egg\\googletrans\\gtoken.py\u001b[0m in \u001b[0;36m_update\u001b[1;34m(self)\u001b[0m\n\u001b[0;32m     60\u001b[0m \u001b[1;33m\u001b[0m\u001b[0m\n\u001b[0;32m     61\u001b[0m         \u001b[1;31m# this will be the same as python code after stripping out a reserved word 'var'\u001b[0m\u001b[1;33m\u001b[0m\u001b[1;33m\u001b[0m\u001b[1;33m\u001b[0m\u001b[0m\n\u001b[1;32m---> 62\u001b[1;33m         \u001b[0mcode\u001b[0m \u001b[1;33m=\u001b[0m \u001b[0mself\u001b[0m\u001b[1;33m.\u001b[0m\u001b[0mRE_TKK\u001b[0m\u001b[1;33m.\u001b[0m\u001b[0msearch\u001b[0m\u001b[1;33m(\u001b[0m\u001b[0mr\u001b[0m\u001b[1;33m.\u001b[0m\u001b[0mtext\u001b[0m\u001b[1;33m)\u001b[0m\u001b[1;33m.\u001b[0m\u001b[0mgroup\u001b[0m\u001b[1;33m(\u001b[0m\u001b[1;36m1\u001b[0m\u001b[1;33m)\u001b[0m\u001b[1;33m.\u001b[0m\u001b[0mreplace\u001b[0m\u001b[1;33m(\u001b[0m\u001b[1;34m'var '\u001b[0m\u001b[1;33m,\u001b[0m \u001b[1;34m''\u001b[0m\u001b[1;33m)\u001b[0m\u001b[1;33m\u001b[0m\u001b[1;33m\u001b[0m\u001b[0m\n\u001b[0m\u001b[0;32m     63\u001b[0m         \u001b[1;31m# unescape special ascii characters such like a \\x3d(=)\u001b[0m\u001b[1;33m\u001b[0m\u001b[1;33m\u001b[0m\u001b[1;33m\u001b[0m\u001b[0m\n\u001b[0;32m     64\u001b[0m         \u001b[0mcode\u001b[0m \u001b[1;33m=\u001b[0m \u001b[0mcode\u001b[0m\u001b[1;33m.\u001b[0m\u001b[0mencode\u001b[0m\u001b[1;33m(\u001b[0m\u001b[1;33m)\u001b[0m\u001b[1;33m.\u001b[0m\u001b[0mdecode\u001b[0m\u001b[1;33m(\u001b[0m\u001b[1;34m'unicode-escape'\u001b[0m\u001b[1;33m)\u001b[0m\u001b[1;33m\u001b[0m\u001b[1;33m\u001b[0m\u001b[0m\n",
      "\u001b[1;31mAttributeError\u001b[0m: 'NoneType' object has no attribute 'group'"
     ]
    }
   ],
   "source": [
    "T = Translator()\n",
    "textde= \"Hallo du Arsch. Doofes Video\"\n",
    "text_en = T.translate(textde).text"
   ]
  },
  {
   "cell_type": "code",
   "execution_count": 8,
   "metadata": {},
   "outputs": [
    {
     "name": "stdout",
     "output_type": "stream",
     "text": [
      "[Sentence(\"Das ist alles wunderschön.\"), Sentence(\"Ich freue mich.\")]\n",
      "['Das', 'ist', 'alles', 'wunderschön', '.', 'Ich', 'freue', 'mich', '.']\n",
      "[('Das', 'DT'), ('ist', 'VB'), ('alles', 'DT'), ('wunderschön', 'JJ'), ('Ich', 'PRP'), ('freue', 'NN'), ('mich', 'PRP')]\n",
      "[]\n",
      "Sentiment(polarity=0.5, subjectivity=0.0)\n",
      "Sentiment(polarity=-0.6666666666666666, subjectivity=0.0)\n"
     ]
    }
   ],
   "source": [
    "\n",
    "blob = TextBlob(text1) #6\n",
    "\n",
    "print(blob.sentences) #7\n",
    "\n",
    "print(blob.tokens) #8\n",
    "\n",
    "print(blob.tags) #9\n",
    "\n",
    "print(blob.noun_phrases) #10\n",
    "\n",
    "print(blob.sentiment) #11\n",
    "\n",
    "blob = TextBlob(text3) #12\n",
    "\n",
    "print(blob.sentiment) #13"
   ]
  }
 ],
 "metadata": {
  "kernelspec": {
   "display_name": "Python 3",
   "language": "python",
   "name": "python3"
  },
  "language_info": {
   "codemirror_mode": {
    "name": "ipython",
    "version": 3
   },
   "file_extension": ".py",
   "mimetype": "text/x-python",
   "name": "python",
   "nbconvert_exporter": "python",
   "pygments_lexer": "ipython3",
   "version": "3.9.6"
  },
  "toc": {
   "base_numbering": 1,
   "nav_menu": {},
   "number_sections": true,
   "sideBar": true,
   "skip_h1_title": false,
   "title_cell": "Table of Contents",
   "title_sidebar": "Contents",
   "toc_cell": false,
   "toc_position": {},
   "toc_section_display": true,
   "toc_window_display": false
  },
  "varInspector": {
   "cols": {
    "lenName": 16,
    "lenType": 16,
    "lenVar": 40
   },
   "kernels_config": {
    "python": {
     "delete_cmd_postfix": "",
     "delete_cmd_prefix": "del ",
     "library": "var_list.py",
     "varRefreshCmd": "print(var_dic_list())"
    },
    "r": {
     "delete_cmd_postfix": ") ",
     "delete_cmd_prefix": "rm(",
     "library": "var_list.r",
     "varRefreshCmd": "cat(var_dic_list()) "
    }
   },
   "types_to_exclude": [
    "module",
    "function",
    "builtin_function_or_method",
    "instance",
    "_Feature"
   ],
   "window_display": false
  }
 },
 "nbformat": 4,
 "nbformat_minor": 4
}
